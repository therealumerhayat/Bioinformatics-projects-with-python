{
 "cells": [
  {
   "cell_type": "markdown",
   "id": "b1842161",
   "metadata": {},
   "source": [
    "# Global Alignment Algorithm\n",
    "\n",
    "This notebook implements the **Global Alignment Algorithm** for sequence comparison. The algorithm aligns two sequences by maximizing the overall alignment score based on match rewards, mismatch penalties, and indel penalties. It uses dynamic programming to fill a scoring matrix and then backtracks to find the optimal alignment.\n",
    "\n",
    "### Parameters:\n",
    "- **match_reward**: Score for matching characters in the two sequences.\n",
    "- **mismatch_penalty**: Penalty for mismatched characters.\n",
    "- **indel_penalty**: Penalty for insertions or deletions.\n",
    "\n",
    "### Functionality:\n",
    "1. Initializes a scoring matrix (`dp`) and a backtracking matrix (`backtrack`).\n",
    "2. Fills in the first row and column based on indel penalties.\n",
    "3. Fills in the rest of the matrix using match, delete, and insert scores.\n",
    "4. Backtracks to find the optimal global alignment.\n",
    "\n",
    "### Output:\n",
    "- Alignment score\n",
    "- Aligned sequences\n",
    "\n",
    "The notebook includes the algorithm implementation followed by an input-output section where users can test the function with their own sequences.\n",
    "\n"
   ]
  },
  {
   "cell_type": "markdown",
   "id": "9f2eb4cc",
   "metadata": {},
   "source": [
    "****"
   ]
  },
  {
   "cell_type": "markdown",
   "id": "59cf099a",
   "metadata": {},
   "source": [
    "#  About the Author\n",
    "\n",
    "**👤 Name:** Muhammad Umer  \n",
    "**🔗 LinkedIn:** [https://www.linkedin.com/in/therealumerhayat/](https://www.linkedin.com/in/therealumerhayat/)  \n",
    "**📧 Gmail:** umerhayat282@gmail.com  \n",
    "**📞 Contact Number:** +92 302 9854427 / +92 317 6239577"
   ]
  },
  {
   "cell_type": "markdown",
   "id": "1512f876",
   "metadata": {},
   "source": [
    "***"
   ]
  },
  {
   "cell_type": "markdown",
   "id": "df082ab9",
   "metadata": {},
   "source": [
    "#   Defining Function "
   ]
  },
  {
   "cell_type": "code",
   "execution_count": 4,
   "id": "31a8d304",
   "metadata": {},
   "outputs": [],
   "source": [
    "def global_alignment(match_reward, mismatch_penalty, indel_penalty, s1, s2):\n",
    "    n, m = len(s1), len(s2)\n",
    "    # Initialize score matrix\n",
    "    dp = [[0] * (m + 1) for _ in range(n + 1)]\n",
    "    backtrack = [[None] * (m + 1) for _ in range(n + 1)]\n",
    "\n",
    "    # Fill in first row and column\n",
    "    for i in range(1, n + 1):\n",
    "        dp[i][0] = dp[i - 1][0] - indel_penalty\n",
    "        backtrack[i][0] = 'up'\n",
    "    for j in range(1, m + 1):\n",
    "        dp[0][j] = dp[0][j - 1] - indel_penalty\n",
    "        backtrack[0][j] = 'left'\n",
    "\n",
    "    # Fill in the rest of the matrix\n",
    "    for i in range(1, n + 1):\n",
    "        for j in range(1, m + 1):\n",
    "            match = dp[i - 1][j - 1] + (match_reward if s1[i - 1] == s2[j - 1] else -mismatch_penalty)\n",
    "            delete = dp[i - 1][j] - indel_penalty\n",
    "            insert = dp[i][j - 1] - indel_penalty\n",
    "\n",
    "            dp[i][j] = max(match, delete, insert)\n",
    "            if dp[i][j] == match:\n",
    "                backtrack[i][j] = 'diag'\n",
    "            elif dp[i][j] == delete:\n",
    "                backtrack[i][j] = 'up'\n",
    "            else:\n",
    "                backtrack[i][j] = 'left'\n",
    "\n",
    "    # Backtrack to find alignment\n",
    "    aligned_s1, aligned_s2 = [], []\n",
    "    i, j = n, m\n",
    "    while i > 0 or j > 0:\n",
    "        if backtrack[i][j] == 'diag':\n",
    "            aligned_s1.append(s1[i - 1])\n",
    "            aligned_s2.append(s2[j - 1])\n",
    "            i -= 1\n",
    "            j -= 1\n",
    "        elif backtrack[i][j] == 'up':\n",
    "            aligned_s1.append(s1[i - 1])\n",
    "            aligned_s2.append('-')\n",
    "            i -= 1\n",
    "        elif backtrack[i][j] == 'left':\n",
    "            aligned_s1.append('-')\n",
    "            aligned_s2.append(s2[j - 1])\n",
    "            j -= 1\n",
    "\n",
    "    return dp[n][m], ''.join(reversed(aligned_s1)), ''.join(reversed(aligned_s2))\n"
   ]
  },
  {
   "cell_type": "markdown",
   "id": "b2684510",
   "metadata": {},
   "source": [
    "#   Input/Output"
   ]
  },
  {
   "cell_type": "code",
   "execution_count": 5,
   "id": "65c54840",
   "metadata": {},
   "outputs": [
    {
     "name": "stdout",
     "output_type": "stream",
     "text": [
      "-177\n",
      "ACACGAACGCCGAGCTAGTCGAATTCATTTAACAGCTTGTGCAAAGTTTTGCGCAGAGGAGTT-TAGCAAAGGCCCTCTTGAAGTCCAAGAACTATCT-GGCTCGCCATCGGGTGAACCTTTGAT-GCACTATCAA-TTTACTAGGTAACTAAAAC-CTGAACGACTCCGAA-ACCTACCTCATTG-CGATGGCAGCTGTCA-A----TATGAC-AATAATTCCGATTCCCCACGCACTGGCTAAAGGGCCACTTATGAAGCGGATTGAGGTAATCGAAAAAGCACTCGAAC-TA--GGACCCCCACTTTGCT----CTGGTCAGTTGTGGCCGGAGGCAAGAATTATACGACGATGAGTATGCCA-G-C-TGCTAA-CATGTATTTAATC-ACATCCGATATGTGAAGC-TATCTATCGTAGTCAGTGGGGTCGTAA-CCTATAGTAGTACT-ATGTGCCCTCGTAGAAACTAAATTGGTCCTGGGTTAAATTCGCGCTTAGTACTTCTTGACTACCTCTTATCCGA-ATAAACGG-ATCGGCTCGAGTGGGTCACTTCCCG-TTC-TTTGACGAAGCCAACAGAGAGGAGACTTCAGTGGTGGAAAGGCCCCTATTCACCAAGTGGGTATTTGGATGCTATGACTTAGGAATTAAGCTCTTAAATGAAGCTTCCGCGGGTGTGATATGCATGTAACGCCAGGTCTAGAACTCACGAGAG-GCTAATACCAGAGGACTGGTAGGAAGTTACGATTGCACATTTACGGTAAGGGCACAGTCTAGCGCCTCGGTGTGCGTCATG-GATCATGTTAGTCGCTGCTGGAAAGACAAAAATGAAGC-CCAGAACG-A-T-ATAG-AATGCAGCGTCTTCG-CATACT-CGCGGCT-CACCTTTACGTGCGGAGTGATTCAAGACCGGAATATTTAATAGA-TCTCAA\n",
      "ACACGAACGCCGA--AATTC--A-T--GGCAACAGCTTGTGCAAAGTTTTGCGCAGAGGAGTTGAAGTCCAAACGATGCCAATTATCTGGCTCGCCATCGGGTGAACCTATGATGCACTATCAATATTAAACACAACTTTGGGCAGTGGCTGAAACTCCGAAACCTAAGGAATGCAGTCATTACGGACGATGGCAGCTGTCAGACTCTTTTGACGGAGAGTTCCAATTCCCCACG--CTGGCTAAATAACGGC-CACTTA-CGGATTGAGGTAATCAAGAAAGCACTCGGACTTAGTGGACCCCCTCTTTACTACGACTGGTCAGTTGCGGCCGGACCTAATTATTATACTTCCACGAATCGACTATGCCAAACAAATCGTTCAATACATCGAATTCTGACCTTTTAATCACATCCGATATGCGAAGTAGGGTCGTAAGGCTATAGTAGTTGTGCCGTAGAAACAGGCAGGGCACATTCTTCGAGGGTTAAATTCGCGCATTAACCATTAGTACTTCTTCCTATCCGACAGGTCGGGTTTCGAGAGGAGAGGGTCACTTCAGGACCCATTCGACGGAGAGGA-ATGGAAAGGCCCCTATTCATGGTATTTGGAAGAAGTAAGCTCTACACCAGGAAATGCAGCTTCCGCGCATGTTTGAT-ATGCATGTAGC-GCATCAGGTCTAGAACTCACGCGAC-CC-GGCTAACACCAGAGGACTGTTGTAACATCTCGGTAATATTGCGCCTCTGTAATTGAACGCCTGTGGGATATTCATGGTCAGTCGCTGCTCAACGAACAGTGAAACCGTGAAAGACGCGCGATGAACTTATAGAAGGCAGCGTCTTCGCGTACTCACGGCCATTTCACCTCTACGTGCTGCTACGGGAATGCGGCGTGATTCAAGGTAGACTTCCTCAGTTTAA-GTTTAATAGATTCACAA\n"
     ]
    }
   ],
   "source": [
    "# Sample Input\n",
    "match, mismatch, indel = 1, 1, 5\n",
    "s1 = \"ACACGAACGCCGAGCTAGTCGAATTCATTTAACAGCTTGTGCAAAGTTTTGCGCAGAGGAGTTTAGCAAAGGCCCTCTTGAAGTCCAAGAACTATCTGGCTCGCCATCGGGTGAACCTTTGATGCACTATCAATTTACTAGGTAACTAAAACCTGAACGACTCCGAAACCTACCTCATTGCGATGGCAGCTGTCAATATGACAATAATTCCGATTCCCCACGCACTGGCTAAAGGGCCACTTATGAAGCGGATTGAGGTAATCGAAAAAGCACTCGAACTAGGACCCCCACTTTGCTCTGGTCAGTTGTGGCCGGAGGCAAGAATTATACGACGATGAGTATGCCAGCTGCTAACATGTATTTAATCACATCCGATATGTGAAGCTATCTATCGTAGTCAGTGGGGTCGTAACCTATAGTAGTACTATGTGCCCTCGTAGAAACTAAATTGGTCCTGGGTTAAATTCGCGCTTAGTACTTCTTGACTACCTCTTATCCGAATAAACGGATCGGCTCGAGTGGGTCACTTCCCGTTCTTTGACGAAGCCAACAGAGAGGAGACTTCAGTGGTGGAAAGGCCCCTATTCACCAAGTGGGTATTTGGATGCTATGACTTAGGAATTAAGCTCTTAAATGAAGCTTCCGCGGGTGTGATATGCATGTAACGCCAGGTCTAGAACTCACGAGAGGCTAATACCAGAGGACTGGTAGGAAGTTACGATTGCACATTTACGGTAAGGGCACAGTCTAGCGCCTCGGTGTGCGTCATGGATCATGTTAGTCGCTGCTGGAAAGACAAAAATGAAGCCCAGAACGATATAGAATGCAGCGTCTTCGCATACTCGCGGCTCACCTTTACGTGCGGAGTGATTCAAGACCGGAATATTTAATAGATCTCAA\"\n",
    "s2 = \"ACACGAACGCCGAAATTCATGGCAACAGCTTGTGCAAAGTTTTGCGCAGAGGAGTTGAAGTCCAAACGATGCCAATTATCTGGCTCGCCATCGGGTGAACCTATGATGCACTATCAATATTAAACACAACTTTGGGCAGTGGCTGAAACTCCGAAACCTAAGGAATGCAGTCATTACGGACGATGGCAGCTGTCAGACTCTTTTGACGGAGAGTTCCAATTCCCCACGCTGGCTAAATAACGGCCACTTACGGATTGAGGTAATCAAGAAAGCACTCGGACTTAGTGGACCCCCTCTTTACTACGACTGGTCAGTTGCGGCCGGACCTAATTATTATACTTCCACGAATCGACTATGCCAAACAAATCGTTCAATACATCGAATTCTGACCTTTTAATCACATCCGATATGCGAAGTAGGGTCGTAAGGCTATAGTAGTTGTGCCGTAGAAACAGGCAGGGCACATTCTTCGAGGGTTAAATTCGCGCATTAACCATTAGTACTTCTTCCTATCCGACAGGTCGGGTTTCGAGAGGAGAGGGTCACTTCAGGACCCATTCGACGGAGAGGAATGGAAAGGCCCCTATTCATGGTATTTGGAAGAAGTAAGCTCTACACCAGGAAATGCAGCTTCCGCGCATGTTTGATATGCATGTAGCGCATCAGGTCTAGAACTCACGCGACCCGGCTAACACCAGAGGACTGTTGTAACATCTCGGTAATATTGCGCCTCTGTAATTGAACGCCTGTGGGATATTCATGGTCAGTCGCTGCTCAACGAACAGTGAAACCGTGAAAGACGCGCGATGAACTTATAGAAGGCAGCGTCTTCGCGTACTCACGGCCATTTCACCTCTACGTGCTGCTACGGGAATGCGGCGTGATTCAAGGTAGACTTCCTCAGTTTAAGTTTAATAGATTCACAA\"\n",
    "\n",
    "score, a1, a2 = global_alignment(match, mismatch, indel, s1, s2)\n",
    "\n",
    "print(score)\n",
    "print(a1)\n",
    "print(a2)"
   ]
  },
  {
   "cell_type": "code",
   "execution_count": null,
   "id": "895929e1",
   "metadata": {},
   "outputs": [],
   "source": []
  }
 ],
 "metadata": {
  "kernelspec": {
   "display_name": "tf_env",
   "language": "python",
   "name": "python3"
  },
  "language_info": {
   "codemirror_mode": {
    "name": "ipython",
    "version": 3
   },
   "file_extension": ".py",
   "mimetype": "text/x-python",
   "name": "python",
   "nbconvert_exporter": "python",
   "pygments_lexer": "ipython3",
   "version": "3.11.11"
  }
 },
 "nbformat": 4,
 "nbformat_minor": 5
}
