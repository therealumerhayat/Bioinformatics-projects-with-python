{
 "cells": [
  {
   "cell_type": "markdown",
   "id": "e7281caf",
   "metadata": {},
   "source": [
    "# Introduction\n",
    "\n",
    "## Brief Overview of Tuberculosis (TB)\n",
    "Tuberculosis (TB) is an infectious disease caused by *Mycobacterium tuberculosis* (MTB). It is responsible for millions of deaths worldwide each year. Although the spread of TB has been greatly reduced through antibiotics, the emergence of multi-drug resistant (MDR) and extensively drug-resistant (XDR) strains poses a significant threat to global health. MTB can persist in humans for decades in a latent form without causing disease. In fact, one-third of the world's population is infected with latent MTB, which may or may not reactivate at a later time.\n",
    "\n",
    "## Latent Tuberculosis and Hypoxia\n",
    "One of the key features of MTB is its ability to enter a dormant state under certain conditions, particularly low-oxygen environments, a process known as hypoxia. Hypoxia plays a critical role in the dormancy and survival of MTB within the host, making it a critical factor in latent tuberculosis. The bacteria can survive for years in a hypoxic state, waiting for more favorable conditions to reactivate and cause active disease. Identifying the genes and mechanisms involved in this latency is key to understanding how MTB survives under such conditions.\n",
    "\n",
    "## The Role of DosR in MTB Latency\n",
    "In 2003, researchers discovered the Dormancy Survival Regulator (DosR), a transcription factor that regulates many genes whose expression changes significantly under hypoxic conditions. However, the exact mechanism by which DosR controls gene expression and how it influences the dormancy of MTB remained unclear. In order to better understand DosR's role, researchers conducted a DNA array experiment to identify genes whose expression levels change in response to hypoxia. \n",
    "\n",
    "\n",
    "\n",
    "## Research Aim\n",
    "In this project, we aim to identify the \"hidden message\" or the motif that DosR uses to control the expression of genes in MTB under hypoxic conditions. We will apply bioinformatics techniques, including motif finding algorithms(that we will develop by python), to a dataset derived from the upstream regions of 10 genes that were identified in the DNA array experiment.\n",
    "\n",
    "## Reference\n",
    "\n",
    "[Rv3133c/dosR is a transcription factor that mediates the hypoxic response of Mycobacterium tuberculosis - PubMed](https://pubmed.ncbi.nlm.nih.gov/12694625/)\n",
    "\n",
    "---\n",
    "\n",
    "# Problem Statement\n",
    "\n",
    "Understanding how MTB remains dormant for extended periods and survives in hypoxic environments is crucial for controlling tuberculosis. The identification of transcription factor binding sites (motifs) such as DosR's binding site can provide insights into how MTB regulates gene expression during latency. The challenge lies in identifying these motifs and understanding their role in the dormancy mechanism.\n",
    "\n",
    "---\n",
    "\n",
    "# Motivation\n",
    "\n",
    "The discovery of DosR's motif is essential for understanding how MTB regulates gene expression in hypoxic conditions. By identifying this motif, we can gain insights into how MTB survives during latency and potentially find targets for novel treatments. Understanding the mechanisms behind MTB's ability to remain dormant will aid in the development of strategies to control latent TB infections, which are a major barrier to eradicating the disease.\n",
    "\n",
    "---\n",
    "\n",
    "# Research Objectives\n",
    "\n",
    "1. To identify motifs in the DosR dataset using bioinformatics techniques with python.\n",
    "2. To use motif-finding algorithms (such as Gibbs sampling and profile-based methods) for discovering the transcription factor binding site in MTB.\n",
    "\n",
    "\n",
    "---\n",
    "\n",
    "# Methodology\n",
    "\n",
    "This project utilizes motif-finding algorithms, such as Gibbs sampling and profile-based motif discovery methods, to identify the hidden motifs in the DosR dataset. The methodology involves:\n",
    "- Data loading and preprocessing: The DosR dataset consisting of 10 genes with 250 nucleotide-long upstream regions will be analyzed.\n",
    "- Motif discovery using Gibbs sampling: The algorithm will be applied to identify the motifs by iterating through the dataset and updating the motifs with each iteration.\n",
    "- Scoring and evaluation: The motifs discovered will be scored based on how well they align with the dataset, and the best motifs will be selected.\n",
    "\n",
    "---\n",
    "\n",
    "# Dataset Description\n",
    "\n",
    "The dataset consists of the upstream regions of 10 genes whose expression levels change significantly under hypoxic conditions. Each gene's upstream region is 250 nucleotides long. These genes were identified in a DNA array experiment aimed at studying the effects of hypoxia on MTB gene expression. The goal is to identify the transcription factor binding site used by DosR to regulate gene expression during MTB dormancy.\n",
    "\n",
    "---\n",
    "\n",
    "# Project Structure\n",
    "\n",
    "This notebook is structured as follows:\n",
    "- **Data Loading & Preprocessing**: Import and preprocess the DosR dataset.\n",
    "- **Motif Finding**: Apply Gibbs sampling and other motif finding algorithms to the dataset.\n",
    "- **Results**: Analyze and visualize the motifs discovered in the dataset.\n",
    "- **Conclusion**: Summarize the findings and discuss the implications of the discovered motifs.\n",
    "\n",
    "Each section will build upon the previous one to provide a comprehensive understanding of how the DosR motif can be identified and its role in MTB latency.\n",
    "\n",
    "---\n"
   ]
  },
  {
   "cell_type": "markdown",
   "id": "5e199ca1",
   "metadata": {},
   "source": [
    "#  About the Author\n",
    "\n",
    "**👤 Name:** Muhammad Umer  \n",
    "**🔗 LinkedIn:** [https://www.linkedin.com/in/therealumerhayat/](https://www.linkedin.com/in/therealumerhayat/)  \n",
    "**📧 Gmail:** umerhayat282@gmail.com  \n",
    "**📞 Contact Number:** +92 302 9854427 / +92 317 6239577"
   ]
  },
  {
   "cell_type": "markdown",
   "id": "a6889e5c",
   "metadata": {},
   "source": [
    "___"
   ]
  },
  {
   "cell_type": "markdown",
   "id": "f0d0a99d",
   "metadata": {},
   "source": [
    "**Data Loading & Preprocessing:**"
   ]
  },
  {
   "cell_type": "code",
   "execution_count": 88,
   "id": "6a9bb60a",
   "metadata": {},
   "outputs": [],
   "source": [
    "#import necessary liabraries\n",
    "from collections import Counter\n",
    "import random \n",
    "from tqdm import tqdm"
   ]
  },
  {
   "cell_type": "code",
   "execution_count": 69,
   "id": "9d4e81ff",
   "metadata": {},
   "outputs": [],
   "source": [
    "#load the txt file\n",
    "with open(r'C:\\Users\\abc\\Downloads\\bioinformatics_specialization\\MTB_DoSR_10.txt', 'r') as file:\n",
    "    Seq = file.read()"
   ]
  },
  {
   "cell_type": "code",
   "execution_count": 65,
   "id": "12f10ea5",
   "metadata": {},
   "outputs": [
    {
     "data": {
      "text/plain": [
       "'GCGCCCCGCCCGGACAGCCATGCGCTAACCCTGGCTTCGATGGCGCCGGCTCAGTTAGGGCCGGAAGTCCCCAATGTGGCAGACCTTTCGCCCCTGGCGGACGAATGACCCCAGTGGCCGGGACTTCAGGCCCTATCGGAGGGCTCCGGCGCGGTGGTCGGATTTGTCTGTGGAGGTTACACCCCAATCGCAAGGATGCATTATGACCAGCGAGCTGAGCCTGGTCGCCACTGGAAAGGGGAGCAACATC\\nCCGATCGGCATCACTATCGGTCCTGCGGCCGCCCATAGCGCTATATCCGGCTGGTGAAATCAATTGACAACCTTCGACTTTGAGGTGGCCTACGGCGAGGACAAGCCAGGCAAGCCAGCTGCCTCAACGCGCGCCAGTACGGGTCCATCGACCCGCGGCCCACGGGTCAAACGACCCTAGTGTTCGCTACGACGTGGTCGTACCTTCGGCAGCAGATCAGCAATAGCACCCCGACTCGAGGAGGATCCCG\\nACCGTCGATGTGCCCGGTCGCGCCGCGTCCACCTCGGTCATCGACCCCACGATGAGGACGCCATCGGCCGCGACCAAGCCCCGTGAAACTCTGACGGCGTGCTGGCCGGGCTGCGGCACCTGATCACCTTAGGGCACTTGGGCCACCACAACGGGCCGCCGGTCTCGACAGTGGCCACCACCACACAGGTGACTTCCGGCGGGACGTAAGTCCCTAACGCGTCGTTCCGCACGCGGTTAGCTTTGCTGCC\\nGGGTCAGGTATATTTATCGCACACTTGGGCACATGACACACAAGCGCCAGAATCCCGGACCGAACCGAGCACCGTGGGTGGGCAGCCTCCATACAGCGATGACCTGATCGATCATCGGCCAGGGCGCCGGGCTTCCAACCGTGGCCGTCTCAGTACCCAGCCTCATTGACCCTTCGACGCATCCACTGCGCGTAAGTCGGCTCAACCCTTTCAAACCGCTGGATTACCGACCGCAGAAAGGGGGCAGGAC\\nGTAGGTCAAACCGGGTGTACATACCCGCTCAATCGCCCAGCACTTCGGGCAGATCACCGGGTTTCCCCGGTATCACCAATACTGCCACCAAACACAGCAGGCGGGAAGGGGCGAAAGTCCCTTATCCGACAATAAAACTTCGCTTGTTCGACGCCCGGTTCACCCGATATGCACGGCGCCCAGCCATTCGTGACCGACGTCCCCAGCCCCAAGGCCGAACGACCCTAGGAGCCACGAGCAATTCACAGCG\\nCCGCTGGCGACGCTGTTCGCCGGCAGCGTGCGTGACGACTTCGAGCTGCCCGACTACACCTGGTGACCACCGCCGACGGGCACCTCTCCGCCAGGTAGGCACGGTTTGTCGCCGGCAATGTGACCTTTGGGCGCGGTCTTGAGGACCTTCGGCCCCACCCACGAGGCCGCCGCCGGCCGATCGTATGACGTGCAATGTACGCCATAGGGTGCGTGTTACGGCGATTACCTGAAGGCGGCGGTGGTCCGGA\\nGGCCAACTGCACCGCGCTCTTGATGACATCGGTGGTCACCATGGTGTCCGGCATGATCAACCTCCGCTGTTCGATATCACCCCGATCTTTCTGAACGGCGGTTGGCAGACAACAGGGTCAATGGTCCCCAAGTGGATCACCGACGGGCGCGGACAAATGGCCCGCGCTTCGGGGACTTCTGTCCCTAGCCCTGGCCACGATGGGCTGGTCGGATCAAAGGCATCCGTTTCCATCGATTAGGAGGCATCAA\\nGTACATGTCCAGAGCGAGCCTCAGCTTCTGCGCAGCGACGGAAACTGCCACACTCAAAGCCTACTGGGCGCACGTGTGGCAACGAGTCGATCCACACGAAATGCCGCCGTTGGGCCGCGGACTAGCCGAATTTTCCGGGTGGTGACACAGCCCACATTTGGCATGGGACTTTCGGCCCTGTCCGCGTCCGTGTCGGCCAGACAAGCTTTGGGCATTGGCCACAATCGGGCCACAATCGAAAGCCGAGCAG\\nGGCAGCTGTCGGCAACTGTAAGCCATTTCTGGGACTTTGCTGTGAAAAGCTGGGCGATGGTTGTGGACCTGGACGAGCCACCCGTGCGATAGGTGAGATTCATTCTCGCCCTGACGGGTTGCGTCTGTCATCGGTCGATAAGGACTAACGGCCCTCAGGTGGGGACCAACGCCCCTGGGAGATAGCGGTCCCCGCCAGTAACGTACCGCTGAACCGACGGGATGTATCCGCCCCAGCGAAGGAGACGGCG\\nTCAGCACCATGACCGCCTGGCCACCAATCGCCCGTAACAAGCGGGACGTCCGCGACGACGCGTGCGCTAGCGCCGTGGCGGTGACAACGACCAGATATGGTCCGAGCACGCGGGCGAACCTCGTGTTCTGGCCTCGGCCAGTTGTGTAGAGCTCATCGCTGTCATCGAGCGATATCCGACCACTGATCCAAGTCGGGGGCTCTGGGGACCGAAGTCCCCGGGCTCGGAGCTATCGGACCTCACGATCACC'"
      ]
     },
     "execution_count": 65,
     "metadata": {},
     "output_type": "execute_result"
    }
   ],
   "source": [
    "Seq"
   ]
  },
  {
   "cell_type": "code",
   "execution_count": 68,
   "id": "e2d52b85",
   "metadata": {},
   "outputs": [
    {
     "data": {
      "text/plain": [
       "Counter({'C': 818, 'G': 747, 'A': 499, 'T': 436, '\\n': 9})"
      ]
     },
     "execution_count": 68,
     "metadata": {},
     "output_type": "execute_result"
    }
   ],
   "source": [
    "#lets check if there is anomly or anything wrong with the data\n",
    "#we use counter to check the unique values and their counter, i approach this problem this way\n",
    "Counter(Seq)"
   ]
  },
  {
   "cell_type": "markdown",
   "id": "918af5e5",
   "metadata": {},
   "source": [
    "There is '\\n' symbol found in the dataset lets deal with that"
   ]
  },
  {
   "cell_type": "code",
   "execution_count": 72,
   "id": "65249a25",
   "metadata": {},
   "outputs": [
    {
     "data": {
      "text/plain": [
       "['GCGCCCCGCCCGGACAGCCATGCGCTAACCCTGGCTTCGATGGCGCCGGCTCAGTTAGGGCCGGAAGTCCCCAATGTGGCAGACCTTTCGCCCCTGGCGGACGAATGACCCCAGTGGCCGGGACTTCAGGCCCTATCGGAGGGCTCCGGCGCGGTGGTCGGATTTGTCTGTGGAGGTTACACCCCAATCGCAAGGATGCATTATGACCAGCGAGCTGAGCCTGGTCGCCACTGGAAAGGGGAGCAACATC',\n",
       " 'CCGATCGGCATCACTATCGGTCCTGCGGCCGCCCATAGCGCTATATCCGGCTGGTGAAATCAATTGACAACCTTCGACTTTGAGGTGGCCTACGGCGAGGACAAGCCAGGCAAGCCAGCTGCCTCAACGCGCGCCAGTACGGGTCCATCGACCCGCGGCCCACGGGTCAAACGACCCTAGTGTTCGCTACGACGTGGTCGTACCTTCGGCAGCAGATCAGCAATAGCACCCCGACTCGAGGAGGATCCCG',\n",
       " 'ACCGTCGATGTGCCCGGTCGCGCCGCGTCCACCTCGGTCATCGACCCCACGATGAGGACGCCATCGGCCGCGACCAAGCCCCGTGAAACTCTGACGGCGTGCTGGCCGGGCTGCGGCACCTGATCACCTTAGGGCACTTGGGCCACCACAACGGGCCGCCGGTCTCGACAGTGGCCACCACCACACAGGTGACTTCCGGCGGGACGTAAGTCCCTAACGCGTCGTTCCGCACGCGGTTAGCTTTGCTGCC',\n",
       " 'GGGTCAGGTATATTTATCGCACACTTGGGCACATGACACACAAGCGCCAGAATCCCGGACCGAACCGAGCACCGTGGGTGGGCAGCCTCCATACAGCGATGACCTGATCGATCATCGGCCAGGGCGCCGGGCTTCCAACCGTGGCCGTCTCAGTACCCAGCCTCATTGACCCTTCGACGCATCCACTGCGCGTAAGTCGGCTCAACCCTTTCAAACCGCTGGATTACCGACCGCAGAAAGGGGGCAGGAC',\n",
       " 'GTAGGTCAAACCGGGTGTACATACCCGCTCAATCGCCCAGCACTTCGGGCAGATCACCGGGTTTCCCCGGTATCACCAATACTGCCACCAAACACAGCAGGCGGGAAGGGGCGAAAGTCCCTTATCCGACAATAAAACTTCGCTTGTTCGACGCCCGGTTCACCCGATATGCACGGCGCCCAGCCATTCGTGACCGACGTCCCCAGCCCCAAGGCCGAACGACCCTAGGAGCCACGAGCAATTCACAGCG',\n",
       " 'CCGCTGGCGACGCTGTTCGCCGGCAGCGTGCGTGACGACTTCGAGCTGCCCGACTACACCTGGTGACCACCGCCGACGGGCACCTCTCCGCCAGGTAGGCACGGTTTGTCGCCGGCAATGTGACCTTTGGGCGCGGTCTTGAGGACCTTCGGCCCCACCCACGAGGCCGCCGCCGGCCGATCGTATGACGTGCAATGTACGCCATAGGGTGCGTGTTACGGCGATTACCTGAAGGCGGCGGTGGTCCGGA',\n",
       " 'GGCCAACTGCACCGCGCTCTTGATGACATCGGTGGTCACCATGGTGTCCGGCATGATCAACCTCCGCTGTTCGATATCACCCCGATCTTTCTGAACGGCGGTTGGCAGACAACAGGGTCAATGGTCCCCAAGTGGATCACCGACGGGCGCGGACAAATGGCCCGCGCTTCGGGGACTTCTGTCCCTAGCCCTGGCCACGATGGGCTGGTCGGATCAAAGGCATCCGTTTCCATCGATTAGGAGGCATCAA',\n",
       " 'GTACATGTCCAGAGCGAGCCTCAGCTTCTGCGCAGCGACGGAAACTGCCACACTCAAAGCCTACTGGGCGCACGTGTGGCAACGAGTCGATCCACACGAAATGCCGCCGTTGGGCCGCGGACTAGCCGAATTTTCCGGGTGGTGACACAGCCCACATTTGGCATGGGACTTTCGGCCCTGTCCGCGTCCGTGTCGGCCAGACAAGCTTTGGGCATTGGCCACAATCGGGCCACAATCGAAAGCCGAGCAG',\n",
       " 'GGCAGCTGTCGGCAACTGTAAGCCATTTCTGGGACTTTGCTGTGAAAAGCTGGGCGATGGTTGTGGACCTGGACGAGCCACCCGTGCGATAGGTGAGATTCATTCTCGCCCTGACGGGTTGCGTCTGTCATCGGTCGATAAGGACTAACGGCCCTCAGGTGGGGACCAACGCCCCTGGGAGATAGCGGTCCCCGCCAGTAACGTACCGCTGAACCGACGGGATGTATCCGCCCCAGCGAAGGAGACGGCG',\n",
       " 'TCAGCACCATGACCGCCTGGCCACCAATCGCCCGTAACAAGCGGGACGTCCGCGACGACGCGTGCGCTAGCGCCGTGGCGGTGACAACGACCAGATATGGTCCGAGCACGCGGGCGAACCTCGTGTTCTGGCCTCGGCCAGTTGTGTAGAGCTCATCGCTGTCATCGAGCGATATCCGACCACTGATCCAAGTCGGGGGCTCTGGGGACCGAAGTCCCCGGGCTCGGAGCTATCGGACCTCACGATCACC']"
      ]
     },
     "execution_count": 72,
     "metadata": {},
     "output_type": "execute_result"
    }
   ],
   "source": [
    "def extract_sequences(seq):\n",
    "    # Remove any extra whitespace and split by any whitespace (space, \\n, etc.)\n",
    "    sequences = seq.strip().split()\n",
    "    return [seq for seq in sequences if seq]  # ensure no empty strings\n",
    "\n",
    "\n",
    "\n",
    "# Extract sequences from the text\n",
    "Dna = extract_sequences(Seq)\n",
    "Dna"
   ]
  },
  {
   "cell_type": "code",
   "execution_count": 78,
   "id": "ebf784ac",
   "metadata": {},
   "outputs": [
    {
     "data": {
      "text/plain": [
       "10"
      ]
     },
     "execution_count": 78,
     "metadata": {},
     "output_type": "execute_result"
    }
   ],
   "source": [
    "#checking if all the strings are unique or not\n",
    "#this is a simple way to check if all the strings are unique or not, if the length of the set is equal to the length of the list then all are unique\n",
    "len(set(Dna))"
   ]
  },
  {
   "cell_type": "code",
   "execution_count": 82,
   "id": "9513108b",
   "metadata": {},
   "outputs": [
    {
     "name": "stdout",
     "output_type": "stream",
     "text": [
      "All sequences are of the same length\n"
     ]
    }
   ],
   "source": [
    "#checking if all the sting have same length or not\n",
    "#this is a simple way to check if all the strings are unique or not, if the length of the set is equal to the length of the list then all are unique\n",
    "for i in range(len(Dna)-1):\n",
    "    if len(Dna[i]) != len(Dna[i+1]):\n",
    "        print(\"Not all sequences are of the same length\")\n",
    "        break\n",
    "else:\n",
    "    print(\"All sequences are of the same length\")"
   ]
  },
  {
   "cell_type": "markdown",
   "id": "f5886785",
   "metadata": {},
   "source": [
    "We have preprocess the dataset lets build the algorithm"
   ]
  },
  {
   "cell_type": "markdown",
   "id": "b50a0828",
   "metadata": {},
   "source": [
    "----"
   ]
  },
  {
   "cell_type": "markdown",
   "id": "6921208c",
   "metadata": {},
   "source": [
    "**Motif Finding:**"
   ]
  },
  {
   "cell_type": "markdown",
   "id": "74bb7fab",
   "metadata": {},
   "source": [
    "First We need to define the probability function\n",
    "To implement a function Pr(Text, Profile), we begin by setting a “probability” variable p equal to 1. We then range through the characters of Text one at a time. At position i of Text, we set p equal to p times the value of Profile corresponding to symbol Text[i] and the i-th column, which is just Profile[Text[i]][i]."
   ]
  },
  {
   "cell_type": "code",
   "execution_count": 95,
   "id": "973afa9d",
   "metadata": {},
   "outputs": [],
   "source": [
    "def Pr(Text, Profile):\n",
    "    prob = 1.0\n",
    "    for i, char in enumerate(Text):\n",
    "        prob *= Profile[char][i]\n",
    "    return prob"
   ]
  },
  {
   "cell_type": "markdown",
   "id": "030cc5e7",
   "metadata": {},
   "source": [
    "In order to improve this unfair scoring, bioinformaticians often substitute zeroes with small numbers called pseudocounts. The simplest approach to introducing pseudocounts, called [Laplace’s Rule of Succession](https://jonathanweisberg.org/post/inductive-logic-2/), is similar to the principle that Laplace used to calculate the probability that the sun will not rise tomorrow. In the case of motifs, pseudocounts often amount to adding 1 (or some other small number) to each element of Count(Motifs)."
   ]
  },
  {
   "cell_type": "code",
   "execution_count": 96,
   "id": "963527e9",
   "metadata": {},
   "outputs": [],
   "source": [
    "def ProfileWithPseudocounts(Motifs):\n",
    "    k = len(Motifs[0])\n",
    "    count = {'A': [1]*k, 'C': [1]*k, 'G': [1]*k, 'T': [1]*k}\n",
    "    for motif in Motifs:\n",
    "        for i, nucleotide in enumerate(motif):\n",
    "            count[nucleotide][i] += 1\n",
    "    profile = {nuc: [count[nuc][i] / (len(Motifs) + 4) for i in range(k)] for nuc in \"ACGT\"}\n",
    "    return profile"
   ]
  },
  {
   "cell_type": "markdown",
   "id": "c8228f8c",
   "metadata": {},
   "source": [
    "we can compute Score(Motifs) by first constructing Consensus and then summing the number of symbols in the j-th column of Motifs that do not match the symbol in position j of the consensus string."
   ]
  },
  {
   "cell_type": "code",
   "execution_count": 103,
   "id": "dd0c97dc",
   "metadata": {},
   "outputs": [],
   "source": [
    "def Score(Motifs):\n",
    "    k = len(Motifs[0])\n",
    "    score = 0\n",
    "    for i in range(k):\n",
    "        col = [motif[i] for motif in Motifs]\n",
    "        most_common = Counter(col).most_common(1)[0][1]\n",
    "        score += len(Motifs) - most_common\n",
    "    return score"
   ]
  },
  {
   "cell_type": "markdown",
   "id": "26a8906b",
   "metadata": {},
   "source": [
    "To rescale a collection of probabilities (the sides of the die) so that these probabilities sum to 1, we will write a function called Normalize(Probabilities). This function takes a dictionary Probabilities whose keys are k-mers and whose values are the probabilities of these k-mers (which do not necessarily sum to 1). The function should divide each value in Probabilities by the sum of all values in Probabilities, then return the resulting dictionary."
   ]
  },
  {
   "cell_type": "code",
   "execution_count": 98,
   "id": "9ebb8503",
   "metadata": {},
   "outputs": [],
   "source": [
    "def Normalize(Probabilities):\n",
    "    \"\"\"\n",
    "    Input: A dictionary Probabilities, where keys are k-mers and values are the probabilities of these k-mers (which do not necessarily sum up to 1)\n",
    "    Output: A normalized dictionary where the probability of each k-mer was divided by the sum of all k-mers' probabilities\n",
    "    \"\"\"\n",
    "\n",
    "    total = sum(Probabilities.values())\n",
    "    norm_prob = {key: value / total for key, value in Probabilities.items()}\n",
    "    return norm_prob"
   ]
  },
  {
   "cell_type": "markdown",
   "id": "8d37f5da",
   "metadata": {},
   "source": [
    "How can we generate a random number between 0 and 1? In addition to the randint function, Python’s random module also includes a function called uniform(a, b) that generates a random floating point number (i.e., a decimal) between a and b. We can therefore generate our desired random number p by calling random.uniform(0, 1)."
   ]
  },
  {
   "cell_type": "code",
   "execution_count": 99,
   "id": "d24901a6",
   "metadata": {},
   "outputs": [],
   "source": [
    "def WeightedDie(Probabilities):\n",
    "    \"\"\"\n",
    "    Input:  A dictionary Probabilities whose keys are k-mers and whose values are the probabilities of these kmers\n",
    "    Output: A randomly chosen k-mer with respect to the values in Probabilities\n",
    "    \"\"\"\n",
    "\n",
    "    kmer = ''\n",
    "    p = random.uniform(0, 1)\n",
    "    cumulative = 0.0\n",
    "    for kmer, prob in Probabilities.items():\n",
    "        cumulative += prob\n",
    "        if p < cumulative:\n",
    "            break\n",
    "    return kmer"
   ]
  },
  {
   "cell_type": "markdown",
   "id": "5d4ef7f3",
   "metadata": {},
   "source": [
    "Assemble this code into a function ProfileGeneratedString(Text, profile, k) that takes as input a string Text, a profile matrix profile , and an integer k . It should then return a randomly generated k-mer from Text whose probabilities are generated from profile, as described above."
   ]
  },
  {
   "cell_type": "code",
   "execution_count": 100,
   "id": "ee218d03",
   "metadata": {},
   "outputs": [],
   "source": [
    "def ProfileGeneratedString(Text, profile, k):\n",
    "    \"\"\"\n",
    "    Input: A string Text, a profile matrix Profile, and an integer k\n",
    "    Output: ProfileGeneratedString(Text, profile, k)\n",
    "    \"\"\"\n",
    "    n = len(Text)\n",
    "    probabilities = {}\n",
    "    for i in range(0, n- k + 1):\n",
    "        kmer = Text[i:i+k]\n",
    "        probabilities[kmer] = Pr(kmer, profile)\n",
    "    probabilities = Normalize(probabilities)\n",
    "    return WeightedDie(probabilities)"
   ]
  },
  {
   "cell_type": "markdown",
   "id": "5e2b5b9a",
   "metadata": {},
   "source": [
    "Assemble Everything Together into final function"
   ]
  },
  {
   "cell_type": "code",
   "execution_count": 101,
   "id": "b73a1cac",
   "metadata": {},
   "outputs": [],
   "source": [
    "def GibbsSampler2(Dna, k, t, N):\n",
    "    # Randomly select one k-mer from each string in Dna\n",
    "    Motifs = [random.choice([Dna[i][j:j+k] for j in range(len(Dna[i]) - k + 1)]) for i in range(t)]\n",
    "    BestMotifs = Motifs[:]\n",
    "\n",
    "    for j in range(N):\n",
    "        i = random.randint(0, t - 1)\n",
    "        # Remove i-th motif\n",
    "        motifs_except_i = Motifs[:i] + Motifs[i+1:]\n",
    "        # Create profile with pseudocounts\n",
    "        profile = ProfileWithPseudocounts(motifs_except_i)\n",
    "        # Get a profile-randomly generated k-mer from Dna[i]\n",
    "        Motifi = ProfileGeneratedString(Dna[i], profile,k )\n",
    "        # Replace i-th motif with the new one\n",
    "        Motifs[i] = Motifi\n",
    "        # Update best motifs if improved\n",
    "        if Score(Motifs) < Score(BestMotifs):\n",
    "            BestMotifs = Motifs[:]\n",
    "\n",
    "    return BestMotifs\n"
   ]
  },
  {
   "cell_type": "markdown",
   "id": "c271703b",
   "metadata": {},
   "source": [
    "***How to choose k (motif length)?***\n",
    "\n",
    "Biological intuition:\n",
    "- Most transcription factor binding sites (TFBSs) are 6–20 bp long.\n",
    "\n",
    "- For DosR-like TFs, known bacterial TF motifs are usually short: around 8–15 bp.\n",
    "\n",
    "\n",
    "***How to choose t (number of sequences)?***\n",
    "\n",
    "t is fixed in my dataset , it’s the number of genes i have.\n",
    "\n",
    "***How to choose N (number of iterations)?***\n",
    "\n",
    "Rule of thumb:\n",
    "\n",
    "- More iterations → better convergence, but more time.\n",
    "\n",
    "- For a small t = 10, we can afford larger N, e.g. N = 1000 to 2000"
   ]
  },
  {
   "cell_type": "code",
   "execution_count": 104,
   "id": "d5bc1fd4",
   "metadata": {},
   "outputs": [
    {
     "name": "stdout",
     "output_type": "stream",
     "text": [
      "GACGAATGACCCCAG GTCAAACGACCCTAG GGTCATCGACCCCAC GATTACCGACCGCAG GACCGACGTCCCCAG GACCTTCGGCCCCAC GATCAACCTCCGCTG GACTTTCGGCCCTGT GACCAACGCCCCTGG GACCGAAGTCCCCGG\n"
     ]
    }
   ],
   "source": [
    "k = 15\n",
    "t = 10\n",
    "N = 2000\n",
    "\n",
    "print(*GibbsSampler2(Dna, k, t, N,),sep=\" \")"
   ]
  },
  {
   "cell_type": "markdown",
   "id": "8e110cb2",
   "metadata": {},
   "source": [
    "We dont know exactly which kmers has the lowest Score so we iterate over the different values my strategy is:\n"
   ]
  },
  {
   "cell_type": "markdown",
   "id": "66dac24c",
   "metadata": {},
   "source": [
    "My strategy:\n",
    "\n",
    "- Try several values of k, e.g., k = from 8 to 15\n",
    "\n",
    "- Run Gibbs Sampling for each and compare:\n",
    "\n",
    "    -- Score(Motifs) (lower is better)\n",
    "\n",
    "    -- Information content (more conserved motifs = better)"
   ]
  },
  {
   "cell_type": "markdown",
   "id": "b72ae562",
   "metadata": {},
   "source": [
    "***"
   ]
  },
  {
   "cell_type": "markdown",
   "id": "2b01c010",
   "metadata": {},
   "source": [
    "**Results**"
   ]
  },
  {
   "cell_type": "code",
   "execution_count": 106,
   "id": "777b5187",
   "metadata": {},
   "outputs": [
    {
     "name": "stdout",
     "output_type": "stream",
     "text": [
      "\n",
      "Trying k = 8\n"
     ]
    },
    {
     "name": "stderr",
     "output_type": "stream",
     "text": [
      "Running GibbsSampler for k=8: 100%|██████████| 20/20 [00:40<00:00,  2.01s/it]\n"
     ]
    },
    {
     "name": "stdout",
     "output_type": "stream",
     "text": [
      "\n",
      "Trying k = 9\n"
     ]
    },
    {
     "name": "stderr",
     "output_type": "stream",
     "text": [
      "Running GibbsSampler for k=9: 100%|██████████| 20/20 [00:48<00:00,  2.45s/it]\n"
     ]
    },
    {
     "name": "stdout",
     "output_type": "stream",
     "text": [
      "\n",
      "Trying k = 10\n"
     ]
    },
    {
     "name": "stderr",
     "output_type": "stream",
     "text": [
      "Running GibbsSampler for k=10: 100%|██████████| 20/20 [00:54<00:00,  2.71s/it]\n"
     ]
    },
    {
     "name": "stdout",
     "output_type": "stream",
     "text": [
      "\n",
      "Trying k = 11\n"
     ]
    },
    {
     "name": "stderr",
     "output_type": "stream",
     "text": [
      "Running GibbsSampler for k=11: 100%|██████████| 20/20 [01:01<00:00,  3.06s/it]\n"
     ]
    },
    {
     "name": "stdout",
     "output_type": "stream",
     "text": [
      "\n",
      "Trying k = 12\n"
     ]
    },
    {
     "name": "stderr",
     "output_type": "stream",
     "text": [
      "Running GibbsSampler for k=12: 100%|██████████| 20/20 [01:05<00:00,  3.27s/it]\n"
     ]
    },
    {
     "name": "stdout",
     "output_type": "stream",
     "text": [
      "\n",
      "Trying k = 13\n"
     ]
    },
    {
     "name": "stderr",
     "output_type": "stream",
     "text": [
      "Running GibbsSampler for k=13: 100%|██████████| 20/20 [01:10<00:00,  3.52s/it]\n"
     ]
    },
    {
     "name": "stdout",
     "output_type": "stream",
     "text": [
      "\n",
      "Trying k = 14\n"
     ]
    },
    {
     "name": "stderr",
     "output_type": "stream",
     "text": [
      "Running GibbsSampler for k=14: 100%|██████████| 20/20 [01:14<00:00,  3.72s/it]\n"
     ]
    },
    {
     "name": "stdout",
     "output_type": "stream",
     "text": [
      "\n",
      "Trying k = 15\n"
     ]
    },
    {
     "name": "stderr",
     "output_type": "stream",
     "text": [
      "Running GibbsSampler for k=15: 100%|██████████| 20/20 [01:23<00:00,  4.19s/it]"
     ]
    },
    {
     "name": "stdout",
     "output_type": "stream",
     "text": [
      "\n",
      "Best motifs found:\n",
      "GGCGCCGG\n",
      "GCCTACGG\n",
      "GCCGCCGG\n",
      "GGCGCCGG\n",
      "GCAGGCGG\n",
      "GCCGCCGG\n",
      "ACCGACGG\n",
      "GCCGCCGT\n",
      "ACCGACGG\n",
      "ACCGCCTG\n",
      "\n",
      "Best score: 13\n",
      "Best k: 8\n"
     ]
    },
    {
     "name": "stderr",
     "output_type": "stream",
     "text": [
      "\n"
     ]
    }
   ],
   "source": [
    "best_motifs_overall = None\n",
    "best_score_overall = float('inf')\n",
    "best_k = None\n",
    "\n",
    "# Try different k values\n",
    "for k in [8,9,10,11,12,13,14,15]:\n",
    "    print(f\"\\nTrying k = {k}\")\n",
    "    t = len(Dna)\n",
    "    N = 2000\n",
    "    runs = 20\n",
    "\n",
    "    for run in tqdm(range(runs), desc=f\"Running GibbsSampler for k={k}\"):\n",
    "        motifs = GibbsSampler2(Dna, k, t, N)\n",
    "        score = Score(motifs)\n",
    "\n",
    "        if score < best_score_overall:\n",
    "            best_score_overall = score\n",
    "            best_motifs_overall = motifs[:]\n",
    "            best_k = k\n",
    "\n",
    "print(\"\\nBest motifs found:\")\n",
    "print(*best_motifs_overall, sep=\"\\n\")\n",
    "print(f\"\\nBest score: {best_score_overall}\")\n",
    "print(f\"Best k: {best_k}\")"
   ]
  },
  {
   "cell_type": "markdown",
   "id": "210ddf38",
   "metadata": {},
   "source": [
    "***"
   ]
  },
  {
   "cell_type": "markdown",
   "id": "7ca7efd5",
   "metadata": {},
   "source": [
    "**Conclusion**"
   ]
  },
  {
   "cell_type": "markdown",
   "id": "8ee85f47",
   "metadata": {},
   "source": [
    "\n",
    "\n",
    "Using the Gibbs Sampling algorithm, we successfully identified a potential conserved motif of length **8** across the DosR dataset of *Mycobacterium tuberculosis* genes. After testing k-mer sizes ranging from 8 to 15 with multiple random restarts, the algorithm achieved the **lowest score of 13** with **k = 8**, indicating strong motif conservation.\n",
    "\n",
    "The identified motifs share significant similarity, suggesting a potential **DosR transcription factor binding site** active under hypoxic conditions. These findings support the hypothesis that specific regulatory sequences contribute to MTB's latent behavior, helping to guide future biological validation and research into TB dormancy mechanisms.\n"
   ]
  }
 ],
 "metadata": {
  "kernelspec": {
   "display_name": "tf_env",
   "language": "python",
   "name": "python3"
  },
  "language_info": {
   "codemirror_mode": {
    "name": "ipython",
    "version": 3
   },
   "file_extension": ".py",
   "mimetype": "text/x-python",
   "name": "python",
   "nbconvert_exporter": "python",
   "pygments_lexer": "ipython3",
   "version": "3.11.11"
  }
 },
 "nbformat": 4,
 "nbformat_minor": 5
}
